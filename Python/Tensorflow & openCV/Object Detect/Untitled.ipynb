{
 "cells": [
  {
   "cell_type": "code",
   "execution_count": 2,
   "id": "ce427690",
   "metadata": {},
   "outputs": [],
   "source": [
    "import numpy as np\n",
    "import cv2"
   ]
  },
  {
   "cell_type": "code",
   "execution_count": 3,
   "id": "f36bedc8",
   "metadata": {},
   "outputs": [],
   "source": [
    "classNames = []\n",
    "with open(\"coco.names\",'rt') as f:\n",
    "    classNames = f.read().rstrip('\\n').split('\\n')\n",
    "\n",
    "cap = cv2.VideoCapture(\"traffic-mini.mp4\")"
   ]
  },
  {
   "cell_type": "code",
   "execution_count": 4,
   "id": "82367e24",
   "metadata": {},
   "outputs": [],
   "source": [
    "config_path = \"./ssd_mobilenet_v3_large_coco_2020_01_14.pbtxt\"\n",
    "weights_path = \"./frozen_inference_graph.pb\""
   ]
  },
  {
   "cell_type": "code",
   "execution_count": 5,
   "id": "abe4c746",
   "metadata": {},
   "outputs": [],
   "source": [
    "net = cv2.dnn_DetectionModel(weights_path,config_path)"
   ]
  },
  {
   "cell_type": "code",
   "execution_count": 6,
   "id": "e5eab877",
   "metadata": {},
   "outputs": [
    {
     "data": {
      "text/plain": [
       "<dnn_Model 000001D18C8D6D10>"
      ]
     },
     "execution_count": 6,
     "metadata": {},
     "output_type": "execute_result"
    }
   ],
   "source": [
    "net.setInputSize(320,320)\n",
    "net.setInputScale(1.0/12.5)\n",
    "net.setInputMean((127.5,127.5,127.5))\n",
    "net.setInputSwapRB(True)"
   ]
  },
  {
   "cell_type": "code",
   "execution_count": null,
   "id": "c1d0b5df",
   "metadata": {},
   "outputs": [],
   "source": []
  },
  {
   "cell_type": "code",
   "execution_count": null,
   "id": "f8738d00",
   "metadata": {},
   "outputs": [
    {
     "name": "stdout",
     "output_type": "stream",
     "text": [
      "() () ()\n",
      "() () ()\n",
      "() () ()\n",
      "() () ()\n",
      "[[51]] [[0.5319114]] [[ 90  86 402 331]]\n",
      "[[51]] [[0.5384052]] [[ 87  77 405 344]]\n",
      "() () ()\n",
      "() () ()\n",
      "() () ()\n",
      "() () ()\n",
      "() () ()\n",
      "() () ()\n",
      "() () ()\n",
      "() () ()\n",
      "() () ()\n",
      "() () ()\n",
      "() () ()\n"
     ]
    }
   ],
   "source": [
    "while True:    \n",
    "    success,img = cap.read()    \n",
    "    classid , confs , bbox = net.detect(img,confThreshold=0.5)   \n",
    "    print( classid , confs , bbox)\n",
    "    if (classid):       \n",
    "        for classId , confd , box in zip(classid.flatten(),confs.flatten(),bbox):\n",
    "            cv2.rectangle(img,box,color=(0,255,0),thickness=2)\n",
    "            cv2.putText(img,classNames[classId-1],(box[0]+10,box[1]+30),cv2.FONT_HERSHEY_COMPLEX,1,(0,255,0),2)\n",
    "        cv2.imshow(\"output\",img)\n",
    "        cv2.waitKey(1)"
   ]
  },
  {
   "cell_type": "code",
   "execution_count": null,
   "id": "8a09abf1",
   "metadata": {},
   "outputs": [],
   "source": []
  },
  {
   "cell_type": "code",
   "execution_count": null,
   "id": "323c6bfb",
   "metadata": {},
   "outputs": [],
   "source": []
  },
  {
   "cell_type": "code",
   "execution_count": null,
   "id": "20d4a7e6",
   "metadata": {},
   "outputs": [],
   "source": []
  },
  {
   "cell_type": "code",
   "execution_count": null,
   "id": "25c420ad",
   "metadata": {},
   "outputs": [],
   "source": []
  },
  {
   "cell_type": "code",
   "execution_count": null,
   "id": "397925fa",
   "metadata": {},
   "outputs": [],
   "source": []
  }
 ],
 "metadata": {
  "kernelspec": {
   "display_name": "Python 3",
   "language": "python",
   "name": "python3"
  },
  "language_info": {
   "codemirror_mode": {
    "name": "ipython",
    "version": 3
   },
   "file_extension": ".py",
   "mimetype": "text/x-python",
   "name": "python",
   "nbconvert_exporter": "python",
   "pygments_lexer": "ipython3",
   "version": "3.8.8"
  },
  "nbTranslate": {
   "displayLangs": [
    "*"
   ],
   "hotkey": "alt-t",
   "langInMainMenu": true,
   "sourceLang": "en",
   "targetLang": "fr",
   "useGoogleTranslate": true
  }
 },
 "nbformat": 4,
 "nbformat_minor": 5
}
