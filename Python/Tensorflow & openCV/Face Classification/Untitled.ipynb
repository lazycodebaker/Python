{
 "cells": [
  {
   "cell_type": "code",
   "execution_count": null,
   "id": "e99a5328",
   "metadata": {},
   "outputs": [],
   "source": [
    "import tensorflow as tf\n",
    "import numpy as np\n",
    "import matplotlib.pyplot as plt\n",
    "import os\n",
    "from tensorflow.keras.preprocessing.image import ImageDataGenerator\n",
    "from PIL import Image\n",
    "from keras.preprocessing import image\n",
    "from keras.optimizers import RMSprop\n",
    "from tensorflow.keras import layers"
   ]
  },
  {
   "cell_type": "code",
   "execution_count": null,
   "id": "6aeed1e6",
   "metadata": {},
   "outputs": [],
   "source": []
  },
  {
   "cell_type": "code",
   "execution_count": null,
   "id": "bbcd3155",
   "metadata": {},
   "outputs": [],
   "source": [
    "train = ImageDataGenerator(rescale=1/255)\n",
    "validation = ImageDataGenerator(rescale=1/255)"
   ]
  },
  {
   "cell_type": "code",
   "execution_count": null,
   "id": "b57f3863",
   "metadata": {},
   "outputs": [],
   "source": [
    "train_dataset = train.flow_from_directory(\"basedata/training/\",\n",
    "                                          target_size=(200,200),\n",
    "                                          batch_size= 3,class_mode='binary'\n",
    "                                         )"
   ]
  },
  {
   "cell_type": "code",
   "execution_count": null,
   "id": "0b1ca8b5",
   "metadata": {},
   "outputs": [],
   "source": [
    "validation_dataset = train.flow_from_directory(\"basedata/validation/\",\n",
    "                                          target_size=(200,200),\n",
    "                                          batch_size= 3,class_mode='binary'\n",
    "                                         )"
   ]
  },
  {
   "cell_type": "code",
   "execution_count": null,
   "id": "06480162",
   "metadata": {},
   "outputs": [],
   "source": [
    "model = tf.keras.models.Sequential([\n",
    "    layers.Conv2D(16,(3,3),activation='relu',input_shape=(200,200,3)),\n",
    "    layers.MaxPool2D(2,2),\n",
    "    layers.Conv2D(32,(3,3),activation='relu'),\n",
    "    layers.MaxPool2D(2,2),\n",
    "    layers.Conv2D(64,(3,3),activation='relu'),\n",
    "    layers.MaxPool2D(2,2),\n",
    "    layers.Flatten(),\n",
    "    layers.Dense(512,activation='relu'),\n",
    "    layers.Dense(1,activation='sigmoid')    \n",
    "])"
   ]
  },
  {
   "cell_type": "code",
   "execution_count": null,
   "id": "c5f5ddbb",
   "metadata": {},
   "outputs": [],
   "source": [
    "model.compile(loss='binary_crossentropy',\n",
    "              optimizer=RMSprop(lr=0.001),\n",
    "              metrics=['accuracy']\n",
    "             )"
   ]
  },
  {
   "cell_type": "code",
   "execution_count": null,
   "id": "e11719f4",
   "metadata": {},
   "outputs": [],
   "source": [
    "model_fit = model.fit(train_dataset,steps_per_epoch=5,epochs=20,\n",
    "                      validation_data = validation_dataset\n",
    "             )"
   ]
  },
  {
   "cell_type": "code",
   "execution_count": null,
   "id": "5683da7a",
   "metadata": {},
   "outputs": [],
   "source": [
    "dir_path = \"basedata/testing/\"\n",
    "\n",
    "for i in os.listdir(dir_path):\n",
    "    img = Image.open(dir_path+'//'+i)    \n",
    "    img = img.resize((200,200))\n",
    "    \n",
    "    X = np.array(img)\n",
    "    X = np.expand_dims(X,axis=0)\n",
    "    image = np.vstack([X])\n",
    "    \n",
    "    prediction = model.predict(image)\n",
    "    \n",
    "    print([\"k\" if prediction == 0 else \"n\"])\n",
    "\n",
    " "
   ]
  },
  {
   "cell_type": "code",
   "execution_count": null,
   "id": "d6d63e13",
   "metadata": {},
   "outputs": [],
   "source": []
  },
  {
   "cell_type": "code",
   "execution_count": null,
   "id": "57a0b42e",
   "metadata": {},
   "outputs": [],
   "source": []
  },
  {
   "cell_type": "code",
   "execution_count": null,
   "id": "a873e300",
   "metadata": {},
   "outputs": [],
   "source": []
  },
  {
   "cell_type": "code",
   "execution_count": null,
   "id": "9432fa71",
   "metadata": {},
   "outputs": [],
   "source": []
  }
 ],
 "metadata": {
  "kernelspec": {
   "display_name": "Python 3",
   "language": "python",
   "name": "python3"
  },
  "language_info": {
   "codemirror_mode": {
    "name": "ipython",
    "version": 3
   },
   "file_extension": ".py",
   "mimetype": "text/x-python",
   "name": "python",
   "nbconvert_exporter": "python",
   "pygments_lexer": "ipython3",
   "version": "3.8.8"
  },
  "nbTranslate": {
   "displayLangs": [
    "*"
   ],
   "hotkey": "alt-t",
   "langInMainMenu": true,
   "sourceLang": "en",
   "targetLang": "fr",
   "useGoogleTranslate": true
  }
 },
 "nbformat": 4,
 "nbformat_minor": 5
}
