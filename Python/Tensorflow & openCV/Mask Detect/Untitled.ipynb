{
 "cells": [
  {
   "cell_type": "code",
   "execution_count": null,
   "id": "bc632ba7",
   "metadata": {},
   "outputs": [],
   "source": [
    "import tensorflow as tf\n",
    "import numpy as np\n",
    "import matplotlib.pyplot as plt\n",
    "import os\n",
    "from tensorflow.keras.preprocessing.image import ImageDataGenerator\n",
    "from PIL import Image\n",
    "import PIL\n",
    "from keras.preprocessing import image\n",
    "from tensorflow.keras import layers\n",
    "import pandas as pd\n",
    "import cv2"
   ]
  },
  {
   "cell_type": "code",
   "execution_count": null,
   "id": "a13857dd",
   "metadata": {},
   "outputs": [],
   "source": [
    "data_dir = \"./data/\"\n",
    "output_dir = \"./resize_image\"\n",
    "BATCH_SIZE = 3\n",
    "img_height = 224\n",
    "img_width = 224\n",
    "EPOCHS = 1"
   ]
  },
  {
   "cell_type": "code",
   "execution_count": null,
   "id": "bff302e4",
   "metadata": {},
   "outputs": [],
   "source": [
    "\n",
    "for image in os.listdir(os.path.join(data_dir, \"with_mask\")):\n",
    "    img_path = os.path.join(data_dir, \"with_mask\", image)\n",
    "    img = PIL.Image.open(img_path)\n",
    "    img = img.convert('RGB')\n",
    "    img = img.resize((img_height, img_width))\n",
    "    img.save(os.path.join(output_dir, \"with_mask\", image))"
   ]
  },
  {
   "cell_type": "code",
   "execution_count": null,
   "id": "d9fb3c8d",
   "metadata": {},
   "outputs": [],
   "source": [
    "for image in os.listdir(os.path.join(data_dir, \"without_mask\")):\n",
    "    img_path = os.path.join(data_dir, \"without_mask\", image)\n",
    "    img = PIL.Image.open(img_path)\n",
    "    img = img.convert('RGB')\n",
    "    img = img.resize((img_height, img_width))\n",
    "    img.save(os.path.join(output_dir, \"without_mask\", image))"
   ]
  },
  {
   "cell_type": "code",
   "execution_count": null,
   "id": "1e93559a",
   "metadata": {},
   "outputs": [],
   "source": [
    "train_ds = tf.keras.preprocessing.image_dataset_from_directory(\n",
    "              output_dir,\n",
    "              validation_split=0.2,\n",
    "              subset=\"training\",\n",
    "              seed=123,\n",
    "              label_mode='binary',\n",
    "              image_size=(img_height, img_width),\n",
    "              batch_size=BATCH_SIZE)\n",
    "\n",
    "test_ds = tf.keras.preprocessing.image_dataset_from_directory(\n",
    "              output_dir,\n",
    "              validation_split=0.2,\n",
    "              subset=\"validation\",\n",
    "              seed=123,\n",
    "              label_mode='binary',\n",
    "              image_size=(img_height, img_width),\n",
    "              batch_size=BATCH_SIZE)"
   ]
  },
  {
   "cell_type": "code",
   "execution_count": null,
   "id": "dae57fd6",
   "metadata": {},
   "outputs": [],
   "source": []
  },
  {
   "cell_type": "code",
   "execution_count": null,
   "id": "38279378",
   "metadata": {},
   "outputs": [],
   "source": [
    "model = tf.keras.Sequential(\n",
    "    [\n",
    "         layers.Conv2D(32, 7, activation=\"relu\", padding=\"SAME\", input_shape=(img_height, img_width, 3)),\n",
    "         layers.MaxPool2D(),\n",
    "         layers.Conv2D(64, 3, activation=\"relu\", padding=\"SAME\"),\n",
    "         layers.MaxPool2D(),\n",
    "         layers.Conv2D(128, 3, activation=\"relu\", padding=\"SAME\"),\n",
    "         layers.MaxPool2D(),\n",
    "         layers.Dropout(.2),\n",
    "         layers.Flatten(),\n",
    "         layers.Dense(256, activation=\"relu\"),\n",
    "         layers.Dense(1, activation=\"sigmoid\")\n",
    "    ]\n",
    ")"
   ]
  },
  {
   "cell_type": "code",
   "execution_count": null,
   "id": "a0675eb8",
   "metadata": {},
   "outputs": [],
   "source": [
    "model.compile(optimizer=\"adam\",\n",
    "             loss=\"binary_crossentropy\",\n",
    "             metrics=[\"accuracy\"])"
   ]
  },
  {
   "cell_type": "code",
   "execution_count": null,
   "id": "192a1fa1",
   "metadata": {},
   "outputs": [],
   "source": [
    "model.fit(train_ds,\n",
    "          batch_size=BATCH_SIZE,\n",
    "          validation_data=test_ds,\n",
    "          epochs=EPOCHS)"
   ]
  },
  {
   "cell_type": "code",
   "execution_count": null,
   "id": "e6576b5e",
   "metadata": {},
   "outputs": [],
   "source": [
    "model.save(\"mask_model\")"
   ]
  },
  {
   "cell_type": "code",
   "execution_count": null,
   "id": "969b8872",
   "metadata": {},
   "outputs": [],
   "source": [
    "model = tf.keras.models.load_model(\"./mask_model/\")"
   ]
  },
  {
   "cell_type": "code",
   "execution_count": 58,
   "id": "d0c738ff",
   "metadata": {},
   "outputs": [],
   "source": [
    "def show_img(img):\n",
    "    img = Image.open(img)\n",
    "    img = np.array(img)\n",
    "    img = np.array([img])\n",
    "    return img"
   ]
  },
  {
   "cell_type": "code",
   "execution_count": 80,
   "id": "d7fc28b3",
   "metadata": {},
   "outputs": [],
   "source": [
    "images = os.listdir(\"./testing_images/\")"
   ]
  },
  {
   "cell_type": "code",
   "execution_count": 82,
   "id": "280c6039",
   "metadata": {},
   "outputs": [
    {
     "name": "stdout",
     "output_type": "stream",
     "text": [
      "With Mask ==> with_mask_shruti(1).jpg\n",
      "With Mask ==> with_mask_shruti(2).jpg\n",
      "With Mask ==> with_mask_shruti(3).jpg\n"
     ]
    }
   ],
   "source": [
    "for img in images:\n",
    "    image = show_img(\"./testing_images/\"+img)\n",
    "    output = np.round(model.predict(image))\n",
    "    print(\"Without Mask\" if output == 1 else \"With Mask\" ,\"==>\", img)"
   ]
  },
  {
   "cell_type": "code",
   "execution_count": 83,
   "id": "82f9412e",
   "metadata": {},
   "outputs": [
    {
     "ename": "TypeError",
     "evalue": "can only concatenate str (not \"Image\") to str",
     "output_type": "error",
     "traceback": [
      "\u001b[1;31m---------------------------------------------------------------\u001b[0m",
      "\u001b[1;31mTypeError\u001b[0m                     Traceback (most recent call last)",
      "\u001b[1;32m<ipython-input-83-2933296751a3>\u001b[0m in \u001b[0;36m<module>\u001b[1;34m\u001b[0m\n\u001b[0;32m      2\u001b[0m \u001b[0mimg\u001b[0m \u001b[1;33m=\u001b[0m \u001b[0mimage\u001b[0m\u001b[1;33m.\u001b[0m\u001b[0mconvert\u001b[0m\u001b[1;33m(\u001b[0m\u001b[1;34m'RGB'\u001b[0m\u001b[1;33m)\u001b[0m\u001b[1;33m\u001b[0m\u001b[1;33m\u001b[0m\u001b[0m\n\u001b[0;32m      3\u001b[0m \u001b[0mimg\u001b[0m \u001b[1;33m=\u001b[0m \u001b[0mimg\u001b[0m\u001b[1;33m.\u001b[0m\u001b[0mresize\u001b[0m\u001b[1;33m(\u001b[0m\u001b[1;33m(\u001b[0m\u001b[1;36m224\u001b[0m\u001b[1;33m,\u001b[0m\u001b[1;36m224\u001b[0m\u001b[1;33m)\u001b[0m\u001b[1;33m)\u001b[0m\u001b[1;33m\u001b[0m\u001b[1;33m\u001b[0m\u001b[0m\n\u001b[1;32m----> 4\u001b[1;33m \u001b[0mimg\u001b[0m\u001b[1;33m.\u001b[0m\u001b[0msave\u001b[0m\u001b[1;33m(\u001b[0m\u001b[0mos\u001b[0m\u001b[1;33m.\u001b[0m\u001b[0mpath\u001b[0m\u001b[1;33m.\u001b[0m\u001b[0mjoin\u001b[0m\u001b[1;33m(\u001b[0m\u001b[1;34m\"./testing_images/\"\u001b[0m\u001b[1;33m,\u001b[0m \u001b[1;34m\"without_mask_shruti\"\u001b[0m \u001b[1;33m+\u001b[0m \u001b[0mimg\u001b[0m\u001b[1;33m)\u001b[0m\u001b[1;33m)\u001b[0m\u001b[1;33m\u001b[0m\u001b[1;33m\u001b[0m\u001b[0m\n\u001b[0m\u001b[0;32m      5\u001b[0m \u001b[1;33m\u001b[0m\u001b[0m\n",
      "\u001b[1;31mTypeError\u001b[0m: can only concatenate str (not \"Image\") to str"
     ]
    }
   ],
   "source": [
    "img_path = os.path.join(\"\")\n",
    "img = Image.open(img_path)\n",
    "img = img.convert('RGB')\n",
    "img = img.resize((224,224))\n",
    "img.save(os.path.join(\"./testing_images/\", \"with_mask_shruti\" + image))\n",
    "    "
   ]
  },
  {
   "cell_type": "code",
   "execution_count": null,
   "id": "65d2af66",
   "metadata": {},
   "outputs": [],
   "source": []
  }
 ],
 "metadata": {
  "kernelspec": {
   "display_name": "Python 3",
   "language": "python",
   "name": "python3"
  },
  "language_info": {
   "codemirror_mode": {
    "name": "ipython",
    "version": 3
   },
   "file_extension": ".py",
   "mimetype": "text/x-python",
   "name": "python",
   "nbconvert_exporter": "python",
   "pygments_lexer": "ipython3",
   "version": "3.8.8"
  },
  "nbTranslate": {
   "displayLangs": [
    "*"
   ],
   "hotkey": "alt-t",
   "langInMainMenu": true,
   "sourceLang": "en",
   "targetLang": "fr",
   "useGoogleTranslate": true
  }
 },
 "nbformat": 4,
 "nbformat_minor": 5
}
