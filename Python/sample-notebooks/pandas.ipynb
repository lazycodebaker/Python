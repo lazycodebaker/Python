{
 "cells": [
  {
   "cell_type": "code",
   "execution_count": null,
   "metadata": {},
   "outputs": [],
   "source": [
    "%config IPCompleter.greedy = True"
   ]
  },
  {
   "cell_type": "code",
   "execution_count": null,
   "metadata": {},
   "outputs": [],
   "source": [
    "import pandas as pd\n",
    "import missingno as mn"
   ]
  },
  {
   "cell_type": "code",
   "execution_count": null,
   "metadata": {},
   "outputs": [],
   "source": [
    "data = pd.DataFrame(pd.read_csv(\"datasets/netflix_titles.csv\"))\n",
    "mn.matrix(data)\n"
   ]
  },
  {
   "cell_type": "code",
   "execution_count": null,
   "metadata": {},
   "outputs": [],
   "source": [
    "data  = [(\"Peter\",18,9),\n",
    "        (\"Riff\",21,10),\n",
    "        (\"Per\",15,4),\n",
    "        (\"Mark\",20,7),]\n",
    "df = pd.DataFrame.from_records(data,columns =['Team', 'Age', 'Score'])\n",
    "print(df)"
   ]
  },
  {
   "cell_type": "code",
   "execution_count": null,
   "metadata": {},
   "outputs": [],
   "source": [
    "df.pivot('Team', 'Age','Score')"
   ]
  },
  {
   "cell_type": "code",
   "execution_count": null,
   "metadata": {},
   "outputs": [],
   "source": [
    "df = pd.DataFrame({'City':['New York', 'Parague', 'New Delhi', 'Venice', 'new Orleans'],\n",
    "                    'Event':['Music', 'Poetry', 'Theatre', 'Comedy', 'Tech_Summit'],\n",
    "                    'Cost':[10000, 5000, 15000, 2000, 12000]})\n",
    "  "
   ]
  },
  {
   "cell_type": "code",
   "execution_count": null,
   "metadata": {},
   "outputs": [],
   "source": [
    "df.index = [pd.Period('02-2018'), pd.Period('04-2018'),\n",
    "          pd.Period('06-2018'), pd.Period('10-2018'), pd.Period('12-2018')]"
   ]
  },
  {
   "cell_type": "code",
   "execution_count": null,
   "metadata": {},
   "outputs": [],
   "source": [
    "df"
   ]
  },
  {
   "cell_type": "code",
   "execution_count": null,
   "metadata": {},
   "outputs": [],
   "source": [
    "df_updated = df.replace(to_replace =['[vV]en','[D]el','[M]us'], value = ['New','Pel','Sus'], regex = True)\n",
    "  \n",
    "# Print the updated dataframe\n",
    "print(df_updated)"
   ]
  },
  {
   "cell_type": "code",
   "execution_count": null,
   "metadata": {},
   "outputs": [],
   "source": [
    "data = pd.read_csv('netflix_titles.csv')\n",
    "data = pd.DataFrame(data)\n",
    "type(data)"
   ]
  },
  {
   "cell_type": "code",
   "execution_count": null,
   "metadata": {},
   "outputs": [],
   "source": [
    "data.iloc[0:2,0:2]"
   ]
  },
  {
   "cell_type": "code",
   "execution_count": null,
   "metadata": {},
   "outputs": [],
   "source": [
    "data.loc[data['release_year'] > 2018].shape"
   ]
  },
  {
   "cell_type": "code",
   "execution_count": null,
   "metadata": {},
   "outputs": [],
   "source": [
    "data.loc[data['release_year'] == 2018][:15] # or data[data.release_year == 2018].head(15)"
   ]
  },
  {
   "cell_type": "code",
   "execution_count": null,
   "metadata": {},
   "outputs": [],
   "source": [
    "data['Months'] = data['date_added'].str.split(' ')\n",
    "data"
   ]
  },
  {
   "cell_type": "code",
   "execution_count": null,
   "metadata": {},
   "outputs": [],
   "source": [
    "data.sort_values(by=['release_year'])[::-1]"
   ]
  },
  {
   "cell_type": "code",
   "execution_count": null,
   "metadata": {},
   "outputs": [],
   "source": [
    "data.columns"
   ]
  },
  {
   "cell_type": "code",
   "execution_count": null,
   "metadata": {},
   "outputs": [],
   "source": [
    "#data.index = data.date_added\n",
    "#data\n"
   ]
  },
  {
   "cell_type": "code",
   "execution_count": null,
   "metadata": {},
   "outputs": [],
   "source": [
    "data"
   ]
  },
  {
   "cell_type": "code",
   "execution_count": null,
   "metadata": {},
   "outputs": [],
   "source": []
  },
  {
   "cell_type": "code",
   "execution_count": null,
   "metadata": {},
   "outputs": [],
   "source": [
    "data"
   ]
  },
  {
   "cell_type": "code",
   "execution_count": null,
   "metadata": {},
   "outputs": [],
   "source": [
    "data.release_year.agg(['mean','std'])\n",
    "data.release_year.mode"
   ]
  },
  {
   "cell_type": "code",
   "execution_count": null,
   "metadata": {},
   "outputs": [],
   "source": [
    "data.skew #skewness'"
   ]
  },
  {
   "cell_type": "code",
   "execution_count": null,
   "metadata": {},
   "outputs": [],
   "source": [
    "data.kurtosis()"
   ]
  },
  {
   "cell_type": "code",
   "execution_count": null,
   "metadata": {},
   "outputs": [],
   "source": [
    "data.head(10)"
   ]
  },
  {
   "cell_type": "code",
   "execution_count": null,
   "metadata": {},
   "outputs": [],
   "source": [
    "data['Months'] = data['date_added'].str.split(' ')\n",
    "data"
   ]
  },
  {
   "cell_type": "code",
   "execution_count": null,
   "metadata": {},
   "outputs": [],
   "source": [
    "data.dropna()"
   ]
  },
  {
   "cell_type": "code",
   "execution_count": null,
   "metadata": {},
   "outputs": [],
   "source": [
    "data.drop('Months',axis=1)"
   ]
  },
  {
   "cell_type": "code",
   "execution_count": null,
   "metadata": {},
   "outputs": [],
   "source": [
    "%matplotlib notebook"
   ]
  },
  {
   "cell_type": "code",
   "execution_count": null,
   "metadata": {},
   "outputs": [],
   "source": [
    "data.release_year[:50].plot(kind='line')"
   ]
  },
  {
   "cell_type": "code",
   "execution_count": null,
   "metadata": {},
   "outputs": [],
   "source": [
    "data['release_year'].agg(['mean','std']).plot(kind='bar')"
   ]
  },
  {
   "cell_type": "code",
   "execution_count": null,
   "metadata": {},
   "outputs": [],
   "source": []
  },
  {
   "cell_type": "code",
   "execution_count": null,
   "metadata": {},
   "outputs": [],
   "source": [
    "data.groupby('release_year').count().plot(kind='bar')"
   ]
  },
  {
   "cell_type": "code",
   "execution_count": null,
   "metadata": {},
   "outputs": [],
   "source": [
    "data.groupby('date_added').count().plot(kind='bar')"
   ]
  },
  {
   "cell_type": "code",
   "execution_count": null,
   "metadata": {},
   "outputs": [],
   "source": [
    "%matplotlib notebook\n",
    "data[:].sort_values(by='release_year')[::-1].groupby('release_year').count().plot(kind='bar')"
   ]
  },
  {
   "cell_type": "code",
   "execution_count": null,
   "metadata": {},
   "outputs": [],
   "source": [
    "data[:].sort_values(by='date_added').groupby('release_year').count()[::-1]"
   ]
  },
  {
   "cell_type": "code",
   "execution_count": null,
   "metadata": {},
   "outputs": [],
   "source": [
    "data"
   ]
  },
  {
   "cell_type": "code",
   "execution_count": null,
   "metadata": {},
   "outputs": [],
   "source": [
    "data['year_perct']  = (data['release_year'] / data['release_year'].sum() )* 100"
   ]
  },
  {
   "cell_type": "code",
   "execution_count": null,
   "metadata": {},
   "outputs": [],
   "source": [
    "data = data.drop('year_perct',axis=1)"
   ]
  },
  {
   "cell_type": "code",
   "execution_count": null,
   "metadata": {},
   "outputs": [],
   "source": [
    "data"
   ]
  },
  {
   "cell_type": "code",
   "execution_count": null,
   "metadata": {},
   "outputs": [],
   "source": [
    "data.release_year.replace(2021,2020,regex=True)"
   ]
  },
  {
   "cell_type": "code",
   "execution_count": null,
   "metadata": {},
   "outputs": [],
   "source": [
    "data['len_desc'] = data['description'].apply(len)"
   ]
  },
  {
   "cell_type": "code",
   "execution_count": null,
   "metadata": {},
   "outputs": [],
   "source": [
    "data"
   ]
  },
  {
   "cell_type": "code",
   "execution_count": null,
   "metadata": {},
   "outputs": [],
   "source": [
    "data['len_desc'].apply(lambda x :'good_desc' if x > 145 else 'poor_desc')"
   ]
  },
  {
   "cell_type": "code",
   "execution_count": null,
   "metadata": {},
   "outputs": [],
   "source": [
    "data.drop('len_desc',axis=1)"
   ]
  },
  {
   "cell_type": "code",
   "execution_count": null,
   "metadata": {},
   "outputs": [],
   "source": [
    "data = pd.DataFrame(pd.read_csv(\"netflix_titles.csv\"))"
   ]
  },
  {
   "cell_type": "code",
   "execution_count": null,
   "metadata": {},
   "outputs": [],
   "source": [
    "data.groupby(\"release_year\").apply(lambda x : x.fillna('ANSH'))"
   ]
  },
  {
   "cell_type": "code",
   "execution_count": null,
   "metadata": {},
   "outputs": [],
   "source": [
    "print(data.isna().columns)\n",
    "data.dropna(axis=0)"
   ]
  },
  {
   "cell_type": "code",
   "execution_count": null,
   "metadata": {},
   "outputs": [],
   "source": [
    "data.fillna(method='ffill')"
   ]
  },
  {
   "cell_type": "code",
   "execution_count": null,
   "metadata": {},
   "outputs": [],
   "source": [
    "data = pd.DataFrame(pd.read_csv(\"netflix_titles.csv\"))"
   ]
  },
  {
   "cell_type": "code",
   "execution_count": null,
   "metadata": {},
   "outputs": [],
   "source": [
    "import numpy as np\n",
    "data['months'] = data.date_added.str.split(' ').str[0]"
   ]
  },
  {
   "cell_type": "code",
   "execution_count": null,
   "metadata": {},
   "outputs": [],
   "source": [
    "data"
   ]
  },
  {
   "cell_type": "code",
   "execution_count": null,
   "metadata": {},
   "outputs": [],
   "source": [
    "data = data.dropna()"
   ]
  },
  {
   "cell_type": "code",
   "execution_count": null,
   "metadata": {},
   "outputs": [],
   "source": [
    "data"
   ]
  },
  {
   "cell_type": "code",
   "execution_count": null,
   "metadata": {},
   "outputs": [],
   "source": [
    "data.groupby('release_year').count()"
   ]
  },
  {
   "cell_type": "code",
   "execution_count": null,
   "metadata": {},
   "outputs": [],
   "source": [
    "data[data.release_year == 2017]"
   ]
  },
  {
   "cell_type": "code",
   "execution_count": null,
   "metadata": {},
   "outputs": [],
   "source": [
    "data['release_year'].replace('2019','2020')\n",
    "#data[data['release_year'] == 2019]"
   ]
  },
  {
   "cell_type": "code",
   "execution_count": null,
   "metadata": {},
   "outputs": [],
   "source": [
    "import pandas as pd\n",
    "import matplotlib.pyplot as plt\n",
    "import seaborn as sns\n",
    "import numpy as np\n"
   ]
  },
  {
   "cell_type": "code",
   "execution_count": null,
   "metadata": {},
   "outputs": [],
   "source": [
    "data = pd.DataFrame(pd.read_csv(\"datasets/pop_lang.csv\"))"
   ]
  },
  {
   "cell_type": "code",
   "execution_count": null,
   "metadata": {},
   "outputs": [],
   "source": [
    "data['Date']"
   ]
  },
  {
   "cell_type": "code",
   "execution_count": null,
   "metadata": {},
   "outputs": [],
   "source": [
    "data['Year'] =  data['Date'].str.split(' ').str[1]"
   ]
  },
  {
   "cell_type": "code",
   "execution_count": null,
   "metadata": {},
   "outputs": [],
   "source": [
    "data"
   ]
  },
  {
   "cell_type": "code",
   "execution_count": null,
   "metadata": {},
   "outputs": [],
   "source": [
    "data['Date'] = pd.to_datetime(data['Date'])"
   ]
  },
  {
   "cell_type": "code",
   "execution_count": null,
   "metadata": {},
   "outputs": [],
   "source": [
    "data.index = data['Date']"
   ]
  },
  {
   "cell_type": "code",
   "execution_count": null,
   "metadata": {},
   "outputs": [],
   "source": [
    "data.index = pd.to_datetime(data.index)"
   ]
  },
  {
   "cell_type": "code",
   "execution_count": null,
   "metadata": {},
   "outputs": [],
   "source": [
    "data = data.drop('Date',axis=1)"
   ]
  },
  {
   "cell_type": "code",
   "execution_count": null,
   "metadata": {},
   "outputs": [],
   "source": [
    "data.head(10)"
   ]
  },
  {
   "cell_type": "code",
   "execution_count": null,
   "metadata": {},
   "outputs": [],
   "source": [
    "!pip install missingno"
   ]
  },
  {
   "cell_type": "code",
   "execution_count": null,
   "metadata": {},
   "outputs": [],
   "source": [
    "import missingno as mn"
   ]
  },
  {
   "cell_type": "code",
   "execution_count": null,
   "metadata": {},
   "outputs": [],
   "source": [
    "mn.matrix(data)"
   ]
  },
  {
   "cell_type": "code",
   "execution_count": null,
   "metadata": {},
   "outputs": [],
   "source": [
    "data.describe()"
   ]
  },
  {
   "cell_type": "code",
   "execution_count": null,
   "metadata": {},
   "outputs": [],
   "source": [
    "data.info()"
   ]
  },
  {
   "cell_type": "code",
   "execution_count": null,
   "metadata": {},
   "outputs": [],
   "source": [
    "data.groupby('Date').count()"
   ]
  },
  {
   "cell_type": "code",
   "execution_count": null,
   "metadata": {},
   "outputs": [],
   "source": [
    "mask = data.mean() > 2.7\n",
    "data = data.loc[:,mask].drop(\"Year\",axis=1)"
   ]
  },
  {
   "cell_type": "code",
   "execution_count": null,
   "metadata": {},
   "outputs": [],
   "source": [
    "clms = data.columns.tolist()\n",
    "clms\n",
    "\n",
    "data.plot(kind='bar')"
   ]
  },
  {
   "cell_type": "code",
   "execution_count": null,
   "metadata": {},
   "outputs": [],
   "source": [
    "%matplotlib inline"
   ]
  },
  {
   "cell_type": "code",
   "execution_count": null,
   "metadata": {},
   "outputs": [],
   "source": [
    "plt.figure(figsize=(20,10))\n",
    "sns.set(style='dark')"
   ]
  },
  {
   "cell_type": "code",
   "execution_count": null,
   "metadata": {},
   "outputs": [],
   "source": [
    "for language in clms:\n",
    "    sns.lineplot(x = data.index,y = data[language],label=language)\n",
    "   # plt.plot(data.index,data[language],label=language)\n",
    "    \n",
    "plt.ylabel('Popularity', fontsize = 12)\n",
    "plt.xlabel('Year', fontsize = 12)\n",
    "plt.title('Popular Prgramming Languages', fontsize = 20)\n",
    "plt.legend(loc = 2)\n",
    "plt.yticks(fontsize = 10)\n",
    "plt.xticks(rotation = 45, fontsize = 10)\n",
    "plt.tight_layout()\n",
    "plt.show()\n",
    "plt.savefig('language_popularity.png')\n",
    "\n",
    "# OR\n",
    "\n",
    "# data.plot(kind='line')"
   ]
  },
  {
   "cell_type": "code",
   "execution_count": null,
   "metadata": {},
   "outputs": [],
   "source": [
    "data[data['Java'] == 16.55]"
   ]
  },
  {
   "cell_type": "code",
   "execution_count": null,
   "metadata": {},
   "outputs": [],
   "source": [
    "data.iloc[:,0:7].plot(kind='line')\n",
    "plt.savefig()"
   ]
  },
  {
   "cell_type": "code",
   "execution_count": null,
   "metadata": {},
   "outputs": [],
   "source": [
    "data"
   ]
  },
  {
   "cell_type": "code",
   "execution_count": null,
   "metadata": {},
   "outputs": [],
   "source": [
    "data_mov = pd.DataFrame()\n",
    "\n",
    "for i in data.columns:\n",
    "    data_mov[i] = data[i].rolling(window=10).mean()\n",
    "\n",
    "data_mov = data_mov[9:].head(1)"
   ]
  },
  {
   "cell_type": "code",
   "execution_count": null,
   "metadata": {},
   "outputs": [],
   "source": [
    "data_mov"
   ]
  },
  {
   "cell_type": "code",
   "execution_count": null,
   "metadata": {},
   "outputs": [],
   "source": [
    "data['Python'].plot(kind=\"line\",figsize=(15,10),color='skyblue',linewidth=10)\n",
    "title = plt.title(\"Popularity over time: Python\",fontsize=22)\n",
    "title.set_position([.5, 1.009])\n",
    "plt.xlabel(\"Time\",fontsize=15,labelpad=20)\n",
    "plt.ylabel(\"Popularity\",fontsize=15, labelpad=20)\n",
    "axes = plt.gca()\n",
    "axes.set_ylim([0,35])\n",
    "plt.show()"
   ]
  },
  {
   "cell_type": "code",
   "execution_count": null,
   "metadata": {},
   "outputs": [],
   "source": [
    "data['C/C++'].plot(kind='line',figsize=(15,10),color='red',linewidth=5)\n",
    "plt.title(\"Poplarity of C/C++\",fontsize=20)\n",
    "plt.fill_between(x=2005,y1=2019,color='lightseagreen')\n",
    "plt.show()\n"
   ]
  },
  {
   "cell_type": "code",
   "execution_count": null,
   "metadata": {},
   "outputs": [],
   "source": [
    "data.iloc[::-1].head(5).plot(kind='bar')"
   ]
  },
  {
   "cell_type": "code",
   "execution_count": null,
   "metadata": {},
   "outputs": [],
   "source": [
    "data = pd.DataFrame(pd.read_csv(\"datasets/prog_book.csv\"))\n",
    "data"
   ]
  },
  {
   "cell_type": "code",
   "execution_count": null,
   "metadata": {},
   "outputs": [],
   "source": [
    "data['Price in $'] = data['Price']"
   ]
  },
  {
   "cell_type": "code",
   "execution_count": null,
   "metadata": {},
   "outputs": [],
   "source": [
    "data = data.drop(\"Price\",axis=1)"
   ]
  },
  {
   "cell_type": "code",
   "execution_count": null,
   "metadata": {},
   "outputs": [],
   "source": [
    "data"
   ]
  },
  {
   "cell_type": "code",
   "execution_count": null,
   "metadata": {},
   "outputs": [],
   "source": [
    "import pandas as pd"
   ]
  },
  {
   "cell_type": "code",
   "execution_count": null,
   "metadata": {},
   "outputs": [],
   "source": [
    "data = pd.DataFrame(pd.read_csv(\"datasets/Google/googleplaystore.csv\"))"
   ]
  },
  {
   "cell_type": "code",
   "execution_count": null,
   "metadata": {
    "scrolled": true
   },
   "outputs": [],
   "source": [
    "data"
   ]
  },
  {
   "cell_type": "code",
   "execution_count": null,
   "metadata": {},
   "outputs": [],
   "source": [
    "data_game = data[data['Category'] == 'GAME']"
   ]
  },
  {
   "cell_type": "code",
   "execution_count": null,
   "metadata": {},
   "outputs": [],
   "source": [
    "data_game[data_game.Size == 'Varies with device'] = data_game.Size.min()"
   ]
  },
  {
   "cell_type": "code",
   "execution_count": null,
   "metadata": {},
   "outputs": [],
   "source": [
    "data = data.loc[data.Size == 'Varies with device'].replace('Varies with device',data.Size.min())"
   ]
  },
  {
   "cell_type": "code",
   "execution_count": null,
   "metadata": {},
   "outputs": [],
   "source": [
    "data"
   ]
  },
  {
   "cell_type": "code",
   "execution_count": null,
   "metadata": {},
   "outputs": [],
   "source": [
    "data.Size"
   ]
  },
  {
   "cell_type": "code",
   "execution_count": null,
   "metadata": {},
   "outputs": [],
   "source": [
    "import pandas as pd\n",
    "import matplotlib.pyplot as plt\n",
    "import seaborn as sns\n",
    "import numpy as np\n",
    "\n",
    "%matplotlib inline\n",
    "%matplotlib notebook"
   ]
  },
  {
   "cell_type": "code",
   "execution_count": null,
   "metadata": {},
   "outputs": [],
   "source": [
    "penguins = sns.load_dataset(name='penguins')\n",
    "penguins\n"
   ]
  },
  {
   "cell_type": "code",
   "execution_count": null,
   "metadata": {},
   "outputs": [],
   "source": []
  },
  {
   "cell_type": "code",
   "execution_count": null,
   "metadata": {},
   "outputs": [],
   "source": [
    "penguins = penguins.dropna(axis=0)"
   ]
  },
  {
   "cell_type": "code",
   "execution_count": null,
   "metadata": {},
   "outputs": [],
   "source": [
    "sns.histplot(data=penguins,x='flipper_length_mm',hue='species',multiple='stack')"
   ]
  },
  {
   "cell_type": "code",
   "execution_count": null,
   "metadata": {},
   "outputs": [],
   "source": [
    "penguins.plot(kind='bar')"
   ]
  },
  {
   "cell_type": "code",
   "execution_count": null,
   "metadata": {},
   "outputs": [],
   "source": []
  },
  {
   "cell_type": "code",
   "execution_count": null,
   "metadata": {},
   "outputs": [],
   "source": []
  },
  {
   "cell_type": "code",
   "execution_count": null,
   "metadata": {},
   "outputs": [],
   "source": [
    "sns.kdeplot(data=penguins, x=\"flipper_length_mm\", hue=\"species\", multiple=\"stack\")"
   ]
  },
  {
   "cell_type": "code",
   "execution_count": null,
   "metadata": {},
   "outputs": [],
   "source": [
    "x = np.linspace(0,10,100)\n",
    "y = np.linspace(-5,-1,100)\n",
    "\n",
    "sns.relplot(x=x,y=y,hue=x,legend=\"auto\",kind='scatter')"
   ]
  },
  {
   "cell_type": "code",
   "execution_count": null,
   "metadata": {},
   "outputs": [],
   "source": [
    "plt.plot(x,y)"
   ]
  },
  {
   "cell_type": "code",
   "execution_count": null,
   "metadata": {},
   "outputs": [],
   "source": [
    "tips = sns.load_dataset(\"tips\")\n"
   ]
  },
  {
   "cell_type": "code",
   "execution_count": null,
   "metadata": {},
   "outputs": [],
   "source": [
    "tips"
   ]
  },
  {
   "cell_type": "code",
   "execution_count": 54,
   "metadata": {},
   "outputs": [
    {
     "data": {
      "application/javascript": [
       "/* Put everything inside the global mpl namespace */\n",
       "/* global mpl */\n",
       "window.mpl = {};\n",
       "\n",
       "mpl.get_websocket_type = function () {\n",
       "    if (typeof WebSocket !== 'undefined') {\n",
       "        return WebSocket;\n",
       "    } else if (typeof MozWebSocket !== 'undefined') {\n",
       "        return MozWebSocket;\n",
       "    } else {\n",
       "        alert(\n",
       "            'Your browser does not have WebSocket support. ' +\n",
       "                'Please try Chrome, Safari or Firefox ≥ 6. ' +\n",
       "                'Firefox 4 and 5 are also supported but you ' +\n",
       "                'have to enable WebSockets in about:config.'\n",
       "        );\n",
       "    }\n",
       "};\n",
       "\n",
       "mpl.figure = function (figure_id, websocket, ondownload, parent_element) {\n",
       "    this.id = figure_id;\n",
       "\n",
       "    this.ws = websocket;\n",
       "\n",
       "    this.supports_binary = this.ws.binaryType !== undefined;\n",
       "\n",
       "    if (!this.supports_binary) {\n",
       "        var warnings = document.getElementById('mpl-warnings');\n",
       "        if (warnings) {\n",
       "            warnings.style.display = 'block';\n",
       "            warnings.textContent =\n",
       "                'This browser does not support binary websocket messages. ' +\n",
       "                'Performance may be slow.';\n",
       "        }\n",
       "    }\n",
       "\n",
       "    this.imageObj = new Image();\n",
       "\n",
       "    this.context = undefined;\n",
       "    this.message = undefined;\n",
       "    this.canvas = undefined;\n",
       "    this.rubberband_canvas = undefined;\n",
       "    this.rubberband_context = undefined;\n",
       "    this.format_dropdown = undefined;\n",
       "\n",
       "    this.image_mode = 'full';\n",
       "\n",
       "    this.root = document.createElement('div');\n",
       "    this.root.setAttribute('style', 'display: inline-block');\n",
       "    this._root_extra_style(this.root);\n",
       "\n",
       "    parent_element.appendChild(this.root);\n",
       "\n",
       "    this._init_header(this);\n",
       "    this._init_canvas(this);\n",
       "    this._init_toolbar(this);\n",
       "\n",
       "    var fig = this;\n",
       "\n",
       "    this.waiting = false;\n",
       "\n",
       "    this.ws.onopen = function () {\n",
       "        fig.send_message('supports_binary', { value: fig.supports_binary });\n",
       "        fig.send_message('send_image_mode', {});\n",
       "        if (fig.ratio !== 1) {\n",
       "            fig.send_message('set_dpi_ratio', { dpi_ratio: fig.ratio });\n",
       "        }\n",
       "        fig.send_message('refresh', {});\n",
       "    };\n",
       "\n",
       "    this.imageObj.onload = function () {\n",
       "        if (fig.image_mode === 'full') {\n",
       "            // Full images could contain transparency (where diff images\n",
       "            // almost always do), so we need to clear the canvas so that\n",
       "            // there is no ghosting.\n",
       "            fig.context.clearRect(0, 0, fig.canvas.width, fig.canvas.height);\n",
       "        }\n",
       "        fig.context.drawImage(fig.imageObj, 0, 0);\n",
       "    };\n",
       "\n",
       "    this.imageObj.onunload = function () {\n",
       "        fig.ws.close();\n",
       "    };\n",
       "\n",
       "    this.ws.onmessage = this._make_on_message_function(this);\n",
       "\n",
       "    this.ondownload = ondownload;\n",
       "};\n",
       "\n",
       "mpl.figure.prototype._init_header = function () {\n",
       "    var titlebar = document.createElement('div');\n",
       "    titlebar.classList =\n",
       "        'ui-dialog-titlebar ui-widget-header ui-corner-all ui-helper-clearfix';\n",
       "    var titletext = document.createElement('div');\n",
       "    titletext.classList = 'ui-dialog-title';\n",
       "    titletext.setAttribute(\n",
       "        'style',\n",
       "        'width: 100%; text-align: center; padding: 3px;'\n",
       "    );\n",
       "    titlebar.appendChild(titletext);\n",
       "    this.root.appendChild(titlebar);\n",
       "    this.header = titletext;\n",
       "};\n",
       "\n",
       "mpl.figure.prototype._canvas_extra_style = function (_canvas_div) {};\n",
       "\n",
       "mpl.figure.prototype._root_extra_style = function (_canvas_div) {};\n",
       "\n",
       "mpl.figure.prototype._init_canvas = function () {\n",
       "    var fig = this;\n",
       "\n",
       "    var canvas_div = (this.canvas_div = document.createElement('div'));\n",
       "    canvas_div.setAttribute(\n",
       "        'style',\n",
       "        'border: 1px solid #ddd;' +\n",
       "            'box-sizing: content-box;' +\n",
       "            'clear: both;' +\n",
       "            'min-height: 1px;' +\n",
       "            'min-width: 1px;' +\n",
       "            'outline: 0;' +\n",
       "            'overflow: hidden;' +\n",
       "            'position: relative;' +\n",
       "            'resize: both;'\n",
       "    );\n",
       "\n",
       "    function on_keyboard_event_closure(name) {\n",
       "        return function (event) {\n",
       "            return fig.key_event(event, name);\n",
       "        };\n",
       "    }\n",
       "\n",
       "    canvas_div.addEventListener(\n",
       "        'keydown',\n",
       "        on_keyboard_event_closure('key_press')\n",
       "    );\n",
       "    canvas_div.addEventListener(\n",
       "        'keyup',\n",
       "        on_keyboard_event_closure('key_release')\n",
       "    );\n",
       "\n",
       "    this._canvas_extra_style(canvas_div);\n",
       "    this.root.appendChild(canvas_div);\n",
       "\n",
       "    var canvas = (this.canvas = document.createElement('canvas'));\n",
       "    canvas.classList.add('mpl-canvas');\n",
       "    canvas.setAttribute('style', 'box-sizing: content-box;');\n",
       "\n",
       "    this.context = canvas.getContext('2d');\n",
       "\n",
       "    var backingStore =\n",
       "        this.context.backingStorePixelRatio ||\n",
       "        this.context.webkitBackingStorePixelRatio ||\n",
       "        this.context.mozBackingStorePixelRatio ||\n",
       "        this.context.msBackingStorePixelRatio ||\n",
       "        this.context.oBackingStorePixelRatio ||\n",
       "        this.context.backingStorePixelRatio ||\n",
       "        1;\n",
       "\n",
       "    this.ratio = (window.devicePixelRatio || 1) / backingStore;\n",
       "\n",
       "    var rubberband_canvas = (this.rubberband_canvas = document.createElement(\n",
       "        'canvas'\n",
       "    ));\n",
       "    rubberband_canvas.setAttribute(\n",
       "        'style',\n",
       "        'box-sizing: content-box; position: absolute; left: 0; top: 0; z-index: 1;'\n",
       "    );\n",
       "\n",
       "    // Apply a ponyfill if ResizeObserver is not implemented by browser.\n",
       "    if (this.ResizeObserver === undefined) {\n",
       "        if (window.ResizeObserver !== undefined) {\n",
       "            this.ResizeObserver = window.ResizeObserver;\n",
       "        } else {\n",
       "            var obs = _JSXTOOLS_RESIZE_OBSERVER({});\n",
       "            this.ResizeObserver = obs.ResizeObserver;\n",
       "        }\n",
       "    }\n",
       "\n",
       "    this.resizeObserverInstance = new this.ResizeObserver(function (entries) {\n",
       "        var nentries = entries.length;\n",
       "        for (var i = 0; i < nentries; i++) {\n",
       "            var entry = entries[i];\n",
       "            var width, height;\n",
       "            if (entry.contentBoxSize) {\n",
       "                if (entry.contentBoxSize instanceof Array) {\n",
       "                    // Chrome 84 implements new version of spec.\n",
       "                    width = entry.contentBoxSize[0].inlineSize;\n",
       "                    height = entry.contentBoxSize[0].blockSize;\n",
       "                } else {\n",
       "                    // Firefox implements old version of spec.\n",
       "                    width = entry.contentBoxSize.inlineSize;\n",
       "                    height = entry.contentBoxSize.blockSize;\n",
       "                }\n",
       "            } else {\n",
       "                // Chrome <84 implements even older version of spec.\n",
       "                width = entry.contentRect.width;\n",
       "                height = entry.contentRect.height;\n",
       "            }\n",
       "\n",
       "            // Keep the size of the canvas and rubber band canvas in sync with\n",
       "            // the canvas container.\n",
       "            if (entry.devicePixelContentBoxSize) {\n",
       "                // Chrome 84 implements new version of spec.\n",
       "                canvas.setAttribute(\n",
       "                    'width',\n",
       "                    entry.devicePixelContentBoxSize[0].inlineSize\n",
       "                );\n",
       "                canvas.setAttribute(\n",
       "                    'height',\n",
       "                    entry.devicePixelContentBoxSize[0].blockSize\n",
       "                );\n",
       "            } else {\n",
       "                canvas.setAttribute('width', width * fig.ratio);\n",
       "                canvas.setAttribute('height', height * fig.ratio);\n",
       "            }\n",
       "            canvas.setAttribute(\n",
       "                'style',\n",
       "                'width: ' + width + 'px; height: ' + height + 'px;'\n",
       "            );\n",
       "\n",
       "            rubberband_canvas.setAttribute('width', width);\n",
       "            rubberband_canvas.setAttribute('height', height);\n",
       "\n",
       "            // And update the size in Python. We ignore the initial 0/0 size\n",
       "            // that occurs as the element is placed into the DOM, which should\n",
       "            // otherwise not happen due to the minimum size styling.\n",
       "            if (fig.ws.readyState == 1 && width != 0 && height != 0) {\n",
       "                fig.request_resize(width, height);\n",
       "            }\n",
       "        }\n",
       "    });\n",
       "    this.resizeObserverInstance.observe(canvas_div);\n",
       "\n",
       "    function on_mouse_event_closure(name) {\n",
       "        return function (event) {\n",
       "            return fig.mouse_event(event, name);\n",
       "        };\n",
       "    }\n",
       "\n",
       "    rubberband_canvas.addEventListener(\n",
       "        'mousedown',\n",
       "        on_mouse_event_closure('button_press')\n",
       "    );\n",
       "    rubberband_canvas.addEventListener(\n",
       "        'mouseup',\n",
       "        on_mouse_event_closure('button_release')\n",
       "    );\n",
       "    rubberband_canvas.addEventListener(\n",
       "        'dblclick',\n",
       "        on_mouse_event_closure('dblclick')\n",
       "    );\n",
       "    // Throttle sequential mouse events to 1 every 20ms.\n",
       "    rubberband_canvas.addEventListener(\n",
       "        'mousemove',\n",
       "        on_mouse_event_closure('motion_notify')\n",
       "    );\n",
       "\n",
       "    rubberband_canvas.addEventListener(\n",
       "        'mouseenter',\n",
       "        on_mouse_event_closure('figure_enter')\n",
       "    );\n",
       "    rubberband_canvas.addEventListener(\n",
       "        'mouseleave',\n",
       "        on_mouse_event_closure('figure_leave')\n",
       "    );\n",
       "\n",
       "    canvas_div.addEventListener('wheel', function (event) {\n",
       "        if (event.deltaY < 0) {\n",
       "            event.step = 1;\n",
       "        } else {\n",
       "            event.step = -1;\n",
       "        }\n",
       "        on_mouse_event_closure('scroll')(event);\n",
       "    });\n",
       "\n",
       "    canvas_div.appendChild(canvas);\n",
       "    canvas_div.appendChild(rubberband_canvas);\n",
       "\n",
       "    this.rubberband_context = rubberband_canvas.getContext('2d');\n",
       "    this.rubberband_context.strokeStyle = '#000000';\n",
       "\n",
       "    this._resize_canvas = function (width, height, forward) {\n",
       "        if (forward) {\n",
       "            canvas_div.style.width = width + 'px';\n",
       "            canvas_div.style.height = height + 'px';\n",
       "        }\n",
       "    };\n",
       "\n",
       "    // Disable right mouse context menu.\n",
       "    this.rubberband_canvas.addEventListener('contextmenu', function (_e) {\n",
       "        event.preventDefault();\n",
       "        return false;\n",
       "    });\n",
       "\n",
       "    function set_focus() {\n",
       "        canvas.focus();\n",
       "        canvas_div.focus();\n",
       "    }\n",
       "\n",
       "    window.setTimeout(set_focus, 100);\n",
       "};\n",
       "\n",
       "mpl.figure.prototype._init_toolbar = function () {\n",
       "    var fig = this;\n",
       "\n",
       "    var toolbar = document.createElement('div');\n",
       "    toolbar.classList = 'mpl-toolbar';\n",
       "    this.root.appendChild(toolbar);\n",
       "\n",
       "    function on_click_closure(name) {\n",
       "        return function (_event) {\n",
       "            return fig.toolbar_button_onclick(name);\n",
       "        };\n",
       "    }\n",
       "\n",
       "    function on_mouseover_closure(tooltip) {\n",
       "        return function (event) {\n",
       "            if (!event.currentTarget.disabled) {\n",
       "                return fig.toolbar_button_onmouseover(tooltip);\n",
       "            }\n",
       "        };\n",
       "    }\n",
       "\n",
       "    fig.buttons = {};\n",
       "    var buttonGroup = document.createElement('div');\n",
       "    buttonGroup.classList = 'mpl-button-group';\n",
       "    for (var toolbar_ind in mpl.toolbar_items) {\n",
       "        var name = mpl.toolbar_items[toolbar_ind][0];\n",
       "        var tooltip = mpl.toolbar_items[toolbar_ind][1];\n",
       "        var image = mpl.toolbar_items[toolbar_ind][2];\n",
       "        var method_name = mpl.toolbar_items[toolbar_ind][3];\n",
       "\n",
       "        if (!name) {\n",
       "            /* Instead of a spacer, we start a new button group. */\n",
       "            if (buttonGroup.hasChildNodes()) {\n",
       "                toolbar.appendChild(buttonGroup);\n",
       "            }\n",
       "            buttonGroup = document.createElement('div');\n",
       "            buttonGroup.classList = 'mpl-button-group';\n",
       "            continue;\n",
       "        }\n",
       "\n",
       "        var button = (fig.buttons[name] = document.createElement('button'));\n",
       "        button.classList = 'mpl-widget';\n",
       "        button.setAttribute('role', 'button');\n",
       "        button.setAttribute('aria-disabled', 'false');\n",
       "        button.addEventListener('click', on_click_closure(method_name));\n",
       "        button.addEventListener('mouseover', on_mouseover_closure(tooltip));\n",
       "\n",
       "        var icon_img = document.createElement('img');\n",
       "        icon_img.src = '_images/' + image + '.png';\n",
       "        icon_img.srcset = '_images/' + image + '_large.png 2x';\n",
       "        icon_img.alt = tooltip;\n",
       "        button.appendChild(icon_img);\n",
       "\n",
       "        buttonGroup.appendChild(button);\n",
       "    }\n",
       "\n",
       "    if (buttonGroup.hasChildNodes()) {\n",
       "        toolbar.appendChild(buttonGroup);\n",
       "    }\n",
       "\n",
       "    var fmt_picker = document.createElement('select');\n",
       "    fmt_picker.classList = 'mpl-widget';\n",
       "    toolbar.appendChild(fmt_picker);\n",
       "    this.format_dropdown = fmt_picker;\n",
       "\n",
       "    for (var ind in mpl.extensions) {\n",
       "        var fmt = mpl.extensions[ind];\n",
       "        var option = document.createElement('option');\n",
       "        option.selected = fmt === mpl.default_extension;\n",
       "        option.innerHTML = fmt;\n",
       "        fmt_picker.appendChild(option);\n",
       "    }\n",
       "\n",
       "    var status_bar = document.createElement('span');\n",
       "    status_bar.classList = 'mpl-message';\n",
       "    toolbar.appendChild(status_bar);\n",
       "    this.message = status_bar;\n",
       "};\n",
       "\n",
       "mpl.figure.prototype.request_resize = function (x_pixels, y_pixels) {\n",
       "    // Request matplotlib to resize the figure. Matplotlib will then trigger a resize in the client,\n",
       "    // which will in turn request a refresh of the image.\n",
       "    this.send_message('resize', { width: x_pixels, height: y_pixels });\n",
       "};\n",
       "\n",
       "mpl.figure.prototype.send_message = function (type, properties) {\n",
       "    properties['type'] = type;\n",
       "    properties['figure_id'] = this.id;\n",
       "    this.ws.send(JSON.stringify(properties));\n",
       "};\n",
       "\n",
       "mpl.figure.prototype.send_draw_message = function () {\n",
       "    if (!this.waiting) {\n",
       "        this.waiting = true;\n",
       "        this.ws.send(JSON.stringify({ type: 'draw', figure_id: this.id }));\n",
       "    }\n",
       "};\n",
       "\n",
       "mpl.figure.prototype.handle_save = function (fig, _msg) {\n",
       "    var format_dropdown = fig.format_dropdown;\n",
       "    var format = format_dropdown.options[format_dropdown.selectedIndex].value;\n",
       "    fig.ondownload(fig, format);\n",
       "};\n",
       "\n",
       "mpl.figure.prototype.handle_resize = function (fig, msg) {\n",
       "    var size = msg['size'];\n",
       "    if (size[0] !== fig.canvas.width || size[1] !== fig.canvas.height) {\n",
       "        fig._resize_canvas(size[0], size[1], msg['forward']);\n",
       "        fig.send_message('refresh', {});\n",
       "    }\n",
       "};\n",
       "\n",
       "mpl.figure.prototype.handle_rubberband = function (fig, msg) {\n",
       "    var x0 = msg['x0'] / fig.ratio;\n",
       "    var y0 = (fig.canvas.height - msg['y0']) / fig.ratio;\n",
       "    var x1 = msg['x1'] / fig.ratio;\n",
       "    var y1 = (fig.canvas.height - msg['y1']) / fig.ratio;\n",
       "    x0 = Math.floor(x0) + 0.5;\n",
       "    y0 = Math.floor(y0) + 0.5;\n",
       "    x1 = Math.floor(x1) + 0.5;\n",
       "    y1 = Math.floor(y1) + 0.5;\n",
       "    var min_x = Math.min(x0, x1);\n",
       "    var min_y = Math.min(y0, y1);\n",
       "    var width = Math.abs(x1 - x0);\n",
       "    var height = Math.abs(y1 - y0);\n",
       "\n",
       "    fig.rubberband_context.clearRect(\n",
       "        0,\n",
       "        0,\n",
       "        fig.canvas.width / fig.ratio,\n",
       "        fig.canvas.height / fig.ratio\n",
       "    );\n",
       "\n",
       "    fig.rubberband_context.strokeRect(min_x, min_y, width, height);\n",
       "};\n",
       "\n",
       "mpl.figure.prototype.handle_figure_label = function (fig, msg) {\n",
       "    // Updates the figure title.\n",
       "    fig.header.textContent = msg['label'];\n",
       "};\n",
       "\n",
       "mpl.figure.prototype.handle_cursor = function (fig, msg) {\n",
       "    var cursor = msg['cursor'];\n",
       "    switch (cursor) {\n",
       "        case 0:\n",
       "            cursor = 'pointer';\n",
       "            break;\n",
       "        case 1:\n",
       "            cursor = 'default';\n",
       "            break;\n",
       "        case 2:\n",
       "            cursor = 'crosshair';\n",
       "            break;\n",
       "        case 3:\n",
       "            cursor = 'move';\n",
       "            break;\n",
       "    }\n",
       "    fig.rubberband_canvas.style.cursor = cursor;\n",
       "};\n",
       "\n",
       "mpl.figure.prototype.handle_message = function (fig, msg) {\n",
       "    fig.message.textContent = msg['message'];\n",
       "};\n",
       "\n",
       "mpl.figure.prototype.handle_draw = function (fig, _msg) {\n",
       "    // Request the server to send over a new figure.\n",
       "    fig.send_draw_message();\n",
       "};\n",
       "\n",
       "mpl.figure.prototype.handle_image_mode = function (fig, msg) {\n",
       "    fig.image_mode = msg['mode'];\n",
       "};\n",
       "\n",
       "mpl.figure.prototype.handle_history_buttons = function (fig, msg) {\n",
       "    for (var key in msg) {\n",
       "        if (!(key in fig.buttons)) {\n",
       "            continue;\n",
       "        }\n",
       "        fig.buttons[key].disabled = !msg[key];\n",
       "        fig.buttons[key].setAttribute('aria-disabled', !msg[key]);\n",
       "    }\n",
       "};\n",
       "\n",
       "mpl.figure.prototype.handle_navigate_mode = function (fig, msg) {\n",
       "    if (msg['mode'] === 'PAN') {\n",
       "        fig.buttons['Pan'].classList.add('active');\n",
       "        fig.buttons['Zoom'].classList.remove('active');\n",
       "    } else if (msg['mode'] === 'ZOOM') {\n",
       "        fig.buttons['Pan'].classList.remove('active');\n",
       "        fig.buttons['Zoom'].classList.add('active');\n",
       "    } else {\n",
       "        fig.buttons['Pan'].classList.remove('active');\n",
       "        fig.buttons['Zoom'].classList.remove('active');\n",
       "    }\n",
       "};\n",
       "\n",
       "mpl.figure.prototype.updated_canvas_event = function () {\n",
       "    // Called whenever the canvas gets updated.\n",
       "    this.send_message('ack', {});\n",
       "};\n",
       "\n",
       "// A function to construct a web socket function for onmessage handling.\n",
       "// Called in the figure constructor.\n",
       "mpl.figure.prototype._make_on_message_function = function (fig) {\n",
       "    return function socket_on_message(evt) {\n",
       "        if (evt.data instanceof Blob) {\n",
       "            var img = evt.data;\n",
       "            if (img.type !== 'image/png') {\n",
       "                /* FIXME: We get \"Resource interpreted as Image but\n",
       "                 * transferred with MIME type text/plain:\" errors on\n",
       "                 * Chrome.  But how to set the MIME type?  It doesn't seem\n",
       "                 * to be part of the websocket stream */\n",
       "                img.type = 'image/png';\n",
       "            }\n",
       "\n",
       "            /* Free the memory for the previous frames */\n",
       "            if (fig.imageObj.src) {\n",
       "                (window.URL || window.webkitURL).revokeObjectURL(\n",
       "                    fig.imageObj.src\n",
       "                );\n",
       "            }\n",
       "\n",
       "            fig.imageObj.src = (window.URL || window.webkitURL).createObjectURL(\n",
       "                img\n",
       "            );\n",
       "            fig.updated_canvas_event();\n",
       "            fig.waiting = false;\n",
       "            return;\n",
       "        } else if (\n",
       "            typeof evt.data === 'string' &&\n",
       "            evt.data.slice(0, 21) === 'data:image/png;base64'\n",
       "        ) {\n",
       "            fig.imageObj.src = evt.data;\n",
       "            fig.updated_canvas_event();\n",
       "            fig.waiting = false;\n",
       "            return;\n",
       "        }\n",
       "\n",
       "        var msg = JSON.parse(evt.data);\n",
       "        var msg_type = msg['type'];\n",
       "\n",
       "        // Call the  \"handle_{type}\" callback, which takes\n",
       "        // the figure and JSON message as its only arguments.\n",
       "        try {\n",
       "            var callback = fig['handle_' + msg_type];\n",
       "        } catch (e) {\n",
       "            console.log(\n",
       "                \"No handler for the '\" + msg_type + \"' message type: \",\n",
       "                msg\n",
       "            );\n",
       "            return;\n",
       "        }\n",
       "\n",
       "        if (callback) {\n",
       "            try {\n",
       "                // console.log(\"Handling '\" + msg_type + \"' message: \", msg);\n",
       "                callback(fig, msg);\n",
       "            } catch (e) {\n",
       "                console.log(\n",
       "                    \"Exception inside the 'handler_\" + msg_type + \"' callback:\",\n",
       "                    e,\n",
       "                    e.stack,\n",
       "                    msg\n",
       "                );\n",
       "            }\n",
       "        }\n",
       "    };\n",
       "};\n",
       "\n",
       "// from http://stackoverflow.com/questions/1114465/getting-mouse-location-in-canvas\n",
       "mpl.findpos = function (e) {\n",
       "    //this section is from http://www.quirksmode.org/js/events_properties.html\n",
       "    var targ;\n",
       "    if (!e) {\n",
       "        e = window.event;\n",
       "    }\n",
       "    if (e.target) {\n",
       "        targ = e.target;\n",
       "    } else if (e.srcElement) {\n",
       "        targ = e.srcElement;\n",
       "    }\n",
       "    if (targ.nodeType === 3) {\n",
       "        // defeat Safari bug\n",
       "        targ = targ.parentNode;\n",
       "    }\n",
       "\n",
       "    // pageX,Y are the mouse positions relative to the document\n",
       "    var boundingRect = targ.getBoundingClientRect();\n",
       "    var x = e.pageX - (boundingRect.left + document.body.scrollLeft);\n",
       "    var y = e.pageY - (boundingRect.top + document.body.scrollTop);\n",
       "\n",
       "    return { x: x, y: y };\n",
       "};\n",
       "\n",
       "/*\n",
       " * return a copy of an object with only non-object keys\n",
       " * we need this to avoid circular references\n",
       " * http://stackoverflow.com/a/24161582/3208463\n",
       " */\n",
       "function simpleKeys(original) {\n",
       "    return Object.keys(original).reduce(function (obj, key) {\n",
       "        if (typeof original[key] !== 'object') {\n",
       "            obj[key] = original[key];\n",
       "        }\n",
       "        return obj;\n",
       "    }, {});\n",
       "}\n",
       "\n",
       "mpl.figure.prototype.mouse_event = function (event, name) {\n",
       "    var canvas_pos = mpl.findpos(event);\n",
       "\n",
       "    if (name === 'button_press') {\n",
       "        this.canvas.focus();\n",
       "        this.canvas_div.focus();\n",
       "    }\n",
       "\n",
       "    var x = canvas_pos.x * this.ratio;\n",
       "    var y = canvas_pos.y * this.ratio;\n",
       "\n",
       "    this.send_message(name, {\n",
       "        x: x,\n",
       "        y: y,\n",
       "        button: event.button,\n",
       "        step: event.step,\n",
       "        guiEvent: simpleKeys(event),\n",
       "    });\n",
       "\n",
       "    /* This prevents the web browser from automatically changing to\n",
       "     * the text insertion cursor when the button is pressed.  We want\n",
       "     * to control all of the cursor setting manually through the\n",
       "     * 'cursor' event from matplotlib */\n",
       "    event.preventDefault();\n",
       "    return false;\n",
       "};\n",
       "\n",
       "mpl.figure.prototype._key_event_extra = function (_event, _name) {\n",
       "    // Handle any extra behaviour associated with a key event\n",
       "};\n",
       "\n",
       "mpl.figure.prototype.key_event = function (event, name) {\n",
       "    // Prevent repeat events\n",
       "    if (name === 'key_press') {\n",
       "        if (event.key === this._key) {\n",
       "            return;\n",
       "        } else {\n",
       "            this._key = event.key;\n",
       "        }\n",
       "    }\n",
       "    if (name === 'key_release') {\n",
       "        this._key = null;\n",
       "    }\n",
       "\n",
       "    var value = '';\n",
       "    if (event.ctrlKey && event.key !== 'Control') {\n",
       "        value += 'ctrl+';\n",
       "    }\n",
       "    else if (event.altKey && event.key !== 'Alt') {\n",
       "        value += 'alt+';\n",
       "    }\n",
       "    else if (event.shiftKey && event.key !== 'Shift') {\n",
       "        value += 'shift+';\n",
       "    }\n",
       "\n",
       "    value += 'k' + event.key;\n",
       "\n",
       "    this._key_event_extra(event, name);\n",
       "\n",
       "    this.send_message(name, { key: value, guiEvent: simpleKeys(event) });\n",
       "    return false;\n",
       "};\n",
       "\n",
       "mpl.figure.prototype.toolbar_button_onclick = function (name) {\n",
       "    if (name === 'download') {\n",
       "        this.handle_save(this, null);\n",
       "    } else {\n",
       "        this.send_message('toolbar_button', { name: name });\n",
       "    }\n",
       "};\n",
       "\n",
       "mpl.figure.prototype.toolbar_button_onmouseover = function (tooltip) {\n",
       "    this.message.textContent = tooltip;\n",
       "};\n",
       "\n",
       "///////////////// REMAINING CONTENT GENERATED BY embed_js.py /////////////////\n",
       "// prettier-ignore\n",
       "var _JSXTOOLS_RESIZE_OBSERVER=function(A){var t,i=new WeakMap,n=new WeakMap,a=new WeakMap,r=new WeakMap,o=new Set;function s(e){if(!(this instanceof s))throw new TypeError(\"Constructor requires 'new' operator\");i.set(this,e)}function h(){throw new TypeError(\"Function is not a constructor\")}function c(e,t,i,n){e=0 in arguments?Number(arguments[0]):0,t=1 in arguments?Number(arguments[1]):0,i=2 in arguments?Number(arguments[2]):0,n=3 in arguments?Number(arguments[3]):0,this.right=(this.x=this.left=e)+(this.width=i),this.bottom=(this.y=this.top=t)+(this.height=n),Object.freeze(this)}function d(){t=requestAnimationFrame(d);var s=new WeakMap,p=new Set;o.forEach((function(t){r.get(t).forEach((function(i){var r=t instanceof window.SVGElement,o=a.get(t),d=r?0:parseFloat(o.paddingTop),f=r?0:parseFloat(o.paddingRight),l=r?0:parseFloat(o.paddingBottom),u=r?0:parseFloat(o.paddingLeft),g=r?0:parseFloat(o.borderTopWidth),m=r?0:parseFloat(o.borderRightWidth),w=r?0:parseFloat(o.borderBottomWidth),b=u+f,F=d+l,v=(r?0:parseFloat(o.borderLeftWidth))+m,W=g+w,y=r?0:t.offsetHeight-W-t.clientHeight,E=r?0:t.offsetWidth-v-t.clientWidth,R=b+v,z=F+W,M=r?t.width:parseFloat(o.width)-R-E,O=r?t.height:parseFloat(o.height)-z-y;if(n.has(t)){var k=n.get(t);if(k[0]===M&&k[1]===O)return}n.set(t,[M,O]);var S=Object.create(h.prototype);S.target=t,S.contentRect=new c(u,d,M,O),s.has(i)||(s.set(i,[]),p.add(i)),s.get(i).push(S)}))})),p.forEach((function(e){i.get(e).call(e,s.get(e),e)}))}return s.prototype.observe=function(i){if(i instanceof window.Element){r.has(i)||(r.set(i,new Set),o.add(i),a.set(i,window.getComputedStyle(i)));var n=r.get(i);n.has(this)||n.add(this),cancelAnimationFrame(t),t=requestAnimationFrame(d)}},s.prototype.unobserve=function(i){if(i instanceof window.Element&&r.has(i)){var n=r.get(i);n.has(this)&&(n.delete(this),n.size||(r.delete(i),o.delete(i))),n.size||r.delete(i),o.size||cancelAnimationFrame(t)}},A.DOMRectReadOnly=c,A.ResizeObserver=s,A.ResizeObserverEntry=h,A}; // eslint-disable-line\n",
       "mpl.toolbar_items = [[\"Home\", \"Reset original view\", \"fa fa-home icon-home\", \"home\"], [\"Back\", \"Back to previous view\", \"fa fa-arrow-left icon-arrow-left\", \"back\"], [\"Forward\", \"Forward to next view\", \"fa fa-arrow-right icon-arrow-right\", \"forward\"], [\"\", \"\", \"\", \"\"], [\"Pan\", \"Left button pans, Right button zooms\\nx/y fixes axis, CTRL fixes aspect\", \"fa fa-arrows icon-move\", \"pan\"], [\"Zoom\", \"Zoom to rectangle\\nx/y fixes axis, CTRL fixes aspect\", \"fa fa-square-o icon-check-empty\", \"zoom\"], [\"\", \"\", \"\", \"\"], [\"Download\", \"Download plot\", \"fa fa-floppy-o icon-save\", \"download\"]];\n",
       "\n",
       "mpl.extensions = [\"eps\", \"jpeg\", \"pgf\", \"pdf\", \"png\", \"ps\", \"raw\", \"svg\", \"tif\"];\n",
       "\n",
       "mpl.default_extension = \"png\";/* global mpl */\n",
       "\n",
       "var comm_websocket_adapter = function (comm) {\n",
       "    // Create a \"websocket\"-like object which calls the given IPython comm\n",
       "    // object with the appropriate methods. Currently this is a non binary\n",
       "    // socket, so there is still some room for performance tuning.\n",
       "    var ws = {};\n",
       "\n",
       "    ws.binaryType = comm.kernel.ws.binaryType;\n",
       "    ws.readyState = comm.kernel.ws.readyState;\n",
       "    function updateReadyState(_event) {\n",
       "        if (comm.kernel.ws) {\n",
       "            ws.readyState = comm.kernel.ws.readyState;\n",
       "        } else {\n",
       "            ws.readyState = 3; // Closed state.\n",
       "        }\n",
       "    }\n",
       "    comm.kernel.ws.addEventListener('open', updateReadyState);\n",
       "    comm.kernel.ws.addEventListener('close', updateReadyState);\n",
       "    comm.kernel.ws.addEventListener('error', updateReadyState);\n",
       "\n",
       "    ws.close = function () {\n",
       "        comm.close();\n",
       "    };\n",
       "    ws.send = function (m) {\n",
       "        //console.log('sending', m);\n",
       "        comm.send(m);\n",
       "    };\n",
       "    // Register the callback with on_msg.\n",
       "    comm.on_msg(function (msg) {\n",
       "        //console.log('receiving', msg['content']['data'], msg);\n",
       "        var data = msg['content']['data'];\n",
       "        if (data['blob'] !== undefined) {\n",
       "            data = {\n",
       "                data: new Blob(msg['buffers'], { type: data['blob'] }),\n",
       "            };\n",
       "        }\n",
       "        // Pass the mpl event to the overridden (by mpl) onmessage function.\n",
       "        ws.onmessage(data);\n",
       "    });\n",
       "    return ws;\n",
       "};\n",
       "\n",
       "mpl.mpl_figure_comm = function (comm, msg) {\n",
       "    // This is the function which gets called when the mpl process\n",
       "    // starts-up an IPython Comm through the \"matplotlib\" channel.\n",
       "\n",
       "    var id = msg.content.data.id;\n",
       "    // Get hold of the div created by the display call when the Comm\n",
       "    // socket was opened in Python.\n",
       "    var element = document.getElementById(id);\n",
       "    var ws_proxy = comm_websocket_adapter(comm);\n",
       "\n",
       "    function ondownload(figure, _format) {\n",
       "        window.open(figure.canvas.toDataURL());\n",
       "    }\n",
       "\n",
       "    var fig = new mpl.figure(id, ws_proxy, ondownload, element);\n",
       "\n",
       "    // Call onopen now - mpl needs it, as it is assuming we've passed it a real\n",
       "    // web socket which is closed, not our websocket->open comm proxy.\n",
       "    ws_proxy.onopen();\n",
       "\n",
       "    fig.parent_element = element;\n",
       "    fig.cell_info = mpl.find_output_cell(\"<div id='\" + id + \"'></div>\");\n",
       "    if (!fig.cell_info) {\n",
       "        console.error('Failed to find cell for figure', id, fig);\n",
       "        return;\n",
       "    }\n",
       "    fig.cell_info[0].output_area.element.on(\n",
       "        'cleared',\n",
       "        { fig: fig },\n",
       "        fig._remove_fig_handler\n",
       "    );\n",
       "};\n",
       "\n",
       "mpl.figure.prototype.handle_close = function (fig, msg) {\n",
       "    var width = fig.canvas.width / fig.ratio;\n",
       "    fig.cell_info[0].output_area.element.off(\n",
       "        'cleared',\n",
       "        fig._remove_fig_handler\n",
       "    );\n",
       "    fig.resizeObserverInstance.unobserve(fig.canvas_div);\n",
       "\n",
       "    // Update the output cell to use the data from the current canvas.\n",
       "    fig.push_to_output();\n",
       "    var dataURL = fig.canvas.toDataURL();\n",
       "    // Re-enable the keyboard manager in IPython - without this line, in FF,\n",
       "    // the notebook keyboard shortcuts fail.\n",
       "    IPython.keyboard_manager.enable();\n",
       "    fig.parent_element.innerHTML =\n",
       "        '<img src=\"' + dataURL + '\" width=\"' + width + '\">';\n",
       "    fig.close_ws(fig, msg);\n",
       "};\n",
       "\n",
       "mpl.figure.prototype.close_ws = function (fig, msg) {\n",
       "    fig.send_message('closing', msg);\n",
       "    // fig.ws.close()\n",
       "};\n",
       "\n",
       "mpl.figure.prototype.push_to_output = function (_remove_interactive) {\n",
       "    // Turn the data on the canvas into data in the output cell.\n",
       "    var width = this.canvas.width / this.ratio;\n",
       "    var dataURL = this.canvas.toDataURL();\n",
       "    this.cell_info[1]['text/html'] =\n",
       "        '<img src=\"' + dataURL + '\" width=\"' + width + '\">';\n",
       "};\n",
       "\n",
       "mpl.figure.prototype.updated_canvas_event = function () {\n",
       "    // Tell IPython that the notebook contents must change.\n",
       "    IPython.notebook.set_dirty(true);\n",
       "    this.send_message('ack', {});\n",
       "    var fig = this;\n",
       "    // Wait a second, then push the new image to the DOM so\n",
       "    // that it is saved nicely (might be nice to debounce this).\n",
       "    setTimeout(function () {\n",
       "        fig.push_to_output();\n",
       "    }, 1000);\n",
       "};\n",
       "\n",
       "mpl.figure.prototype._init_toolbar = function () {\n",
       "    var fig = this;\n",
       "\n",
       "    var toolbar = document.createElement('div');\n",
       "    toolbar.classList = 'btn-toolbar';\n",
       "    this.root.appendChild(toolbar);\n",
       "\n",
       "    function on_click_closure(name) {\n",
       "        return function (_event) {\n",
       "            return fig.toolbar_button_onclick(name);\n",
       "        };\n",
       "    }\n",
       "\n",
       "    function on_mouseover_closure(tooltip) {\n",
       "        return function (event) {\n",
       "            if (!event.currentTarget.disabled) {\n",
       "                return fig.toolbar_button_onmouseover(tooltip);\n",
       "            }\n",
       "        };\n",
       "    }\n",
       "\n",
       "    fig.buttons = {};\n",
       "    var buttonGroup = document.createElement('div');\n",
       "    buttonGroup.classList = 'btn-group';\n",
       "    var button;\n",
       "    for (var toolbar_ind in mpl.toolbar_items) {\n",
       "        var name = mpl.toolbar_items[toolbar_ind][0];\n",
       "        var tooltip = mpl.toolbar_items[toolbar_ind][1];\n",
       "        var image = mpl.toolbar_items[toolbar_ind][2];\n",
       "        var method_name = mpl.toolbar_items[toolbar_ind][3];\n",
       "\n",
       "        if (!name) {\n",
       "            /* Instead of a spacer, we start a new button group. */\n",
       "            if (buttonGroup.hasChildNodes()) {\n",
       "                toolbar.appendChild(buttonGroup);\n",
       "            }\n",
       "            buttonGroup = document.createElement('div');\n",
       "            buttonGroup.classList = 'btn-group';\n",
       "            continue;\n",
       "        }\n",
       "\n",
       "        button = fig.buttons[name] = document.createElement('button');\n",
       "        button.classList = 'btn btn-default';\n",
       "        button.href = '#';\n",
       "        button.title = name;\n",
       "        button.innerHTML = '<i class=\"fa ' + image + ' fa-lg\"></i>';\n",
       "        button.addEventListener('click', on_click_closure(method_name));\n",
       "        button.addEventListener('mouseover', on_mouseover_closure(tooltip));\n",
       "        buttonGroup.appendChild(button);\n",
       "    }\n",
       "\n",
       "    if (buttonGroup.hasChildNodes()) {\n",
       "        toolbar.appendChild(buttonGroup);\n",
       "    }\n",
       "\n",
       "    // Add the status bar.\n",
       "    var status_bar = document.createElement('span');\n",
       "    status_bar.classList = 'mpl-message pull-right';\n",
       "    toolbar.appendChild(status_bar);\n",
       "    this.message = status_bar;\n",
       "\n",
       "    // Add the close button to the window.\n",
       "    var buttongrp = document.createElement('div');\n",
       "    buttongrp.classList = 'btn-group inline pull-right';\n",
       "    button = document.createElement('button');\n",
       "    button.classList = 'btn btn-mini btn-primary';\n",
       "    button.href = '#';\n",
       "    button.title = 'Stop Interaction';\n",
       "    button.innerHTML = '<i class=\"fa fa-power-off icon-remove icon-large\"></i>';\n",
       "    button.addEventListener('click', function (_evt) {\n",
       "        fig.handle_close(fig, {});\n",
       "    });\n",
       "    button.addEventListener(\n",
       "        'mouseover',\n",
       "        on_mouseover_closure('Stop Interaction')\n",
       "    );\n",
       "    buttongrp.appendChild(button);\n",
       "    var titlebar = this.root.querySelector('.ui-dialog-titlebar');\n",
       "    titlebar.insertBefore(buttongrp, titlebar.firstChild);\n",
       "};\n",
       "\n",
       "mpl.figure.prototype._remove_fig_handler = function (event) {\n",
       "    var fig = event.data.fig;\n",
       "    if (event.target !== this) {\n",
       "        // Ignore bubbled events from children.\n",
       "        return;\n",
       "    }\n",
       "    fig.close_ws(fig, {});\n",
       "};\n",
       "\n",
       "mpl.figure.prototype._root_extra_style = function (el) {\n",
       "    el.style.boxSizing = 'content-box'; // override notebook setting of border-box.\n",
       "};\n",
       "\n",
       "mpl.figure.prototype._canvas_extra_style = function (el) {\n",
       "    // this is important to make the div 'focusable\n",
       "    el.setAttribute('tabindex', 0);\n",
       "    // reach out to IPython and tell the keyboard manager to turn it's self\n",
       "    // off when our div gets focus\n",
       "\n",
       "    // location in version 3\n",
       "    if (IPython.notebook.keyboard_manager) {\n",
       "        IPython.notebook.keyboard_manager.register_events(el);\n",
       "    } else {\n",
       "        // location in version 2\n",
       "        IPython.keyboard_manager.register_events(el);\n",
       "    }\n",
       "};\n",
       "\n",
       "mpl.figure.prototype._key_event_extra = function (event, _name) {\n",
       "    var manager = IPython.notebook.keyboard_manager;\n",
       "    if (!manager) {\n",
       "        manager = IPython.keyboard_manager;\n",
       "    }\n",
       "\n",
       "    // Check for shift+enter\n",
       "    if (event.shiftKey && event.which === 13) {\n",
       "        this.canvas_div.blur();\n",
       "        // select the cell after this one\n",
       "        var index = IPython.notebook.find_cell_index(this.cell_info[0]);\n",
       "        IPython.notebook.select(index + 1);\n",
       "    }\n",
       "};\n",
       "\n",
       "mpl.figure.prototype.handle_save = function (fig, _msg) {\n",
       "    fig.ondownload(fig, null);\n",
       "};\n",
       "\n",
       "mpl.find_output_cell = function (html_output) {\n",
       "    // Return the cell and output element which can be found *uniquely* in the notebook.\n",
       "    // Note - this is a bit hacky, but it is done because the \"notebook_saving.Notebook\"\n",
       "    // IPython event is triggered only after the cells have been serialised, which for\n",
       "    // our purposes (turning an active figure into a static one), is too late.\n",
       "    var cells = IPython.notebook.get_cells();\n",
       "    var ncells = cells.length;\n",
       "    for (var i = 0; i < ncells; i++) {\n",
       "        var cell = cells[i];\n",
       "        if (cell.cell_type === 'code') {\n",
       "            for (var j = 0; j < cell.output_area.outputs.length; j++) {\n",
       "                var data = cell.output_area.outputs[j];\n",
       "                if (data.data) {\n",
       "                    // IPython >= 3 moved mimebundle to data attribute of output\n",
       "                    data = data.data;\n",
       "                }\n",
       "                if (data['text/html'] === html_output) {\n",
       "                    return [cell, data, j];\n",
       "                }\n",
       "            }\n",
       "        }\n",
       "    }\n",
       "};\n",
       "\n",
       "// Register the function which deals with the matplotlib target/channel.\n",
       "// The kernel may be null if the page has been refreshed.\n",
       "if (IPython.notebook.kernel !== null) {\n",
       "    IPython.notebook.kernel.comm_manager.register_target(\n",
       "        'matplotlib',\n",
       "        mpl.mpl_figure_comm\n",
       "    );\n",
       "}\n"
      ],
      "text/plain": [
       "<IPython.core.display.Javascript object>"
      ]
     },
     "metadata": {},
     "output_type": "display_data"
    },
    {
     "data": {
      "text/html": [
       "<img src=\"data:image/png;base64,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\" width=\"778\">"
      ],
      "text/plain": [
       "<IPython.core.display.HTML object>"
      ]
     },
     "metadata": {},
     "output_type": "display_data"
    },
    {
     "data": {
      "text/plain": [
       "<seaborn.axisgrid.FacetGrid at 0x1a611ec4e50>"
      ]
     },
     "execution_count": 54,
     "metadata": {},
     "output_type": "execute_result"
    }
   ],
   "source": [
    "sns.relplot(data=tips,x='total_bill',y='tip',hue='day',col='sex',row='time')"
   ]
  },
  {
   "cell_type": "code",
   "execution_count": 51,
   "metadata": {},
   "outputs": [
    {
     "data": {
      "text/html": [
       "<div>\n",
       "<style scoped>\n",
       "    .dataframe tbody tr th:only-of-type {\n",
       "        vertical-align: middle;\n",
       "    }\n",
       "\n",
       "    .dataframe tbody tr th {\n",
       "        vertical-align: top;\n",
       "    }\n",
       "\n",
       "    .dataframe thead th {\n",
       "        text-align: right;\n",
       "    }\n",
       "</style>\n",
       "<table border=\"1\" class=\"dataframe\">\n",
       "  <thead>\n",
       "    <tr style=\"text-align: right;\">\n",
       "      <th></th>\n",
       "      <th>total_bill</th>\n",
       "      <th>tip</th>\n",
       "      <th>sex</th>\n",
       "      <th>smoker</th>\n",
       "      <th>day</th>\n",
       "      <th>time</th>\n",
       "      <th>size</th>\n",
       "    </tr>\n",
       "  </thead>\n",
       "  <tbody>\n",
       "    <tr>\n",
       "      <th>0</th>\n",
       "      <td>16.99</td>\n",
       "      <td>1.01</td>\n",
       "      <td>Female</td>\n",
       "      <td>No</td>\n",
       "      <td>Sun</td>\n",
       "      <td>Dinner</td>\n",
       "      <td>2</td>\n",
       "    </tr>\n",
       "    <tr>\n",
       "      <th>1</th>\n",
       "      <td>10.34</td>\n",
       "      <td>1.66</td>\n",
       "      <td>Male</td>\n",
       "      <td>No</td>\n",
       "      <td>Sun</td>\n",
       "      <td>Dinner</td>\n",
       "      <td>3</td>\n",
       "    </tr>\n",
       "    <tr>\n",
       "      <th>2</th>\n",
       "      <td>21.01</td>\n",
       "      <td>3.50</td>\n",
       "      <td>Male</td>\n",
       "      <td>No</td>\n",
       "      <td>Sun</td>\n",
       "      <td>Dinner</td>\n",
       "      <td>3</td>\n",
       "    </tr>\n",
       "    <tr>\n",
       "      <th>3</th>\n",
       "      <td>23.68</td>\n",
       "      <td>3.31</td>\n",
       "      <td>Male</td>\n",
       "      <td>No</td>\n",
       "      <td>Sun</td>\n",
       "      <td>Dinner</td>\n",
       "      <td>2</td>\n",
       "    </tr>\n",
       "    <tr>\n",
       "      <th>4</th>\n",
       "      <td>24.59</td>\n",
       "      <td>3.61</td>\n",
       "      <td>Female</td>\n",
       "      <td>No</td>\n",
       "      <td>Sun</td>\n",
       "      <td>Dinner</td>\n",
       "      <td>4</td>\n",
       "    </tr>\n",
       "    <tr>\n",
       "      <th>...</th>\n",
       "      <td>...</td>\n",
       "      <td>...</td>\n",
       "      <td>...</td>\n",
       "      <td>...</td>\n",
       "      <td>...</td>\n",
       "      <td>...</td>\n",
       "      <td>...</td>\n",
       "    </tr>\n",
       "    <tr>\n",
       "      <th>239</th>\n",
       "      <td>29.03</td>\n",
       "      <td>5.92</td>\n",
       "      <td>Male</td>\n",
       "      <td>No</td>\n",
       "      <td>Sat</td>\n",
       "      <td>Dinner</td>\n",
       "      <td>3</td>\n",
       "    </tr>\n",
       "    <tr>\n",
       "      <th>240</th>\n",
       "      <td>27.18</td>\n",
       "      <td>2.00</td>\n",
       "      <td>Female</td>\n",
       "      <td>Yes</td>\n",
       "      <td>Sat</td>\n",
       "      <td>Dinner</td>\n",
       "      <td>2</td>\n",
       "    </tr>\n",
       "    <tr>\n",
       "      <th>241</th>\n",
       "      <td>22.67</td>\n",
       "      <td>2.00</td>\n",
       "      <td>Male</td>\n",
       "      <td>Yes</td>\n",
       "      <td>Sat</td>\n",
       "      <td>Dinner</td>\n",
       "      <td>2</td>\n",
       "    </tr>\n",
       "    <tr>\n",
       "      <th>242</th>\n",
       "      <td>17.82</td>\n",
       "      <td>1.75</td>\n",
       "      <td>Male</td>\n",
       "      <td>No</td>\n",
       "      <td>Sat</td>\n",
       "      <td>Dinner</td>\n",
       "      <td>2</td>\n",
       "    </tr>\n",
       "    <tr>\n",
       "      <th>243</th>\n",
       "      <td>18.78</td>\n",
       "      <td>3.00</td>\n",
       "      <td>Female</td>\n",
       "      <td>No</td>\n",
       "      <td>Thur</td>\n",
       "      <td>Dinner</td>\n",
       "      <td>2</td>\n",
       "    </tr>\n",
       "  </tbody>\n",
       "</table>\n",
       "<p>244 rows × 7 columns</p>\n",
       "</div>"
      ],
      "text/plain": [
       "     total_bill   tip     sex smoker   day    time  size\n",
       "0         16.99  1.01  Female     No   Sun  Dinner     2\n",
       "1         10.34  1.66    Male     No   Sun  Dinner     3\n",
       "2         21.01  3.50    Male     No   Sun  Dinner     3\n",
       "3         23.68  3.31    Male     No   Sun  Dinner     2\n",
       "4         24.59  3.61  Female     No   Sun  Dinner     4\n",
       "..          ...   ...     ...    ...   ...     ...   ...\n",
       "239       29.03  5.92    Male     No   Sat  Dinner     3\n",
       "240       27.18  2.00  Female    Yes   Sat  Dinner     2\n",
       "241       22.67  2.00    Male    Yes   Sat  Dinner     2\n",
       "242       17.82  1.75    Male     No   Sat  Dinner     2\n",
       "243       18.78  3.00  Female     No  Thur  Dinner     2\n",
       "\n",
       "[244 rows x 7 columns]"
      ]
     },
     "execution_count": 51,
     "metadata": {},
     "output_type": "execute_result"
    }
   ],
   "source": []
  },
  {
   "cell_type": "code",
   "execution_count": null,
   "metadata": {},
   "outputs": [],
   "source": [
    "fmri ="
   ]
  },
  {
   "cell_type": "code",
   "execution_count": null,
   "metadata": {},
   "outputs": [],
   "source": []
  },
  {
   "cell_type": "code",
   "execution_count": null,
   "metadata": {},
   "outputs": [],
   "source": []
  },
  {
   "cell_type": "code",
   "execution_count": null,
   "metadata": {},
   "outputs": [],
   "source": []
  },
  {
   "cell_type": "code",
   "execution_count": null,
   "metadata": {},
   "outputs": [],
   "source": []
  }
 ],
 "metadata": {
  "kernelspec": {
   "display_name": "Python 3",
   "language": "python",
   "name": "python3"
  },
  "language_info": {
   "codemirror_mode": {
    "name": "ipython",
    "version": 3
   },
   "file_extension": ".py",
   "mimetype": "text/x-python",
   "name": "python",
   "nbconvert_exporter": "python",
   "pygments_lexer": "ipython3",
   "version": "3.9.2"
  }
 },
 "nbformat": 4,
 "nbformat_minor": 4
}
